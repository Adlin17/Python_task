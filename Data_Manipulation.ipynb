{
  "nbformat": 4,
  "nbformat_minor": 0,
  "metadata": {
    "colab": {
      "provenance": []
    },
    "kernelspec": {
      "name": "python3",
      "display_name": "Python 3"
    },
    "language_info": {
      "name": "python"
    }
  },
  "cells": [
    {
      "cell_type": "code",
      "execution_count": 1,
      "metadata": {
        "colab": {
          "base_uri": "https://localhost:8080/"
        },
        "id": "9BVF17NwT2Cy",
        "outputId": "73906d0a-c0db-4b34-9f0c-1cb29d85c2c7"
      },
      "outputs": [
        {
          "output_type": "stream",
          "name": "stdout",
          "text": [
            "Student Array:\n",
            "[('Alice', 20, 85.5) ('Bob', 22, 90. ) ('Charlie', 21, 88. )]\n",
            "\n",
            "Student Names:\n",
            "['Alice' 'Bob' 'Charlie']\n",
            "\n",
            "Average Grade:\n",
            "87.83\n",
            "\n",
            "Students with Grade > 85:\n",
            "[('Alice', 20, 85.5) ('Bob', 22, 90. ) ('Charlie', 21, 88. )]\n"
          ]
        }
      ],
      "source": [
        "import numpy as np\n",
        "\n",
        "student_dtype = np.dtype([\n",
        "    ('name', 'U50'),       # Unicode string of up to 50 characters\n",
        "    ('age', 'i4'),         # 32-bit integer\n",
        "    ('grade', 'f4')        # 32-bit float\n",
        "])\n",
        "\n",
        "# Create an array using the custom data type\n",
        "students = np.array([\n",
        "    ('Alice', 20, 85.5),\n",
        "    ('Bob', 22, 90.0),\n",
        "    ('Charlie', 21, 88.0)\n",
        "], dtype=student_dtype)\n",
        "\n",
        "# Access and manipulate data\n",
        "print(\"Student Array:\")\n",
        "print(students)\n",
        "\n",
        "# Example: Access specific fields\n",
        "print(\"\\nStudent Names:\")\n",
        "print(students['name'])\n",
        "\n",
        "print(\"\\nAverage Grade:\")\n",
        "average_grade = students['grade'].mean()\n",
        "print(f\"{average_grade:.2f}\")\n",
        "\n",
        "# Example: Filter students based on a condition\n",
        "high_scorers = students[students['grade'] > 85]\n",
        "print(\"\\nStudents with Grade > 85:\")\n",
        "print(high_scorers)\n"
      ]
    },
    {
      "cell_type": "code",
      "source": [],
      "metadata": {
        "id": "eYFrqkdST5Dd"
      },
      "execution_count": null,
      "outputs": []
    }
  ]
}
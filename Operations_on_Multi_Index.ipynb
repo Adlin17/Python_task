{
  "nbformat": 4,
  "nbformat_minor": 0,
  "metadata": {
    "colab": {
      "provenance": []
    },
    "kernelspec": {
      "name": "python3",
      "display_name": "Python 3"
    },
    "language_info": {
      "name": "python"
    }
  },
  "cells": [
    {
      "cell_type": "code",
      "execution_count": 1,
      "metadata": {
        "colab": {
          "base_uri": "https://localhost:8080/"
        },
        "id": "ibxIGXvMUqlk",
        "outputId": "c22abc85-e2fe-4a43-f57f-32b69c433002"
      },
      "outputs": [
        {
          "output_type": "stream",
          "name": "stdout",
          "text": [
            "Original Multi-Index DataFrame:\n",
            "                 Value1  Value2\n",
            "Group  Subgroup                \n",
            "Group1 A             10      15\n",
            "       B             20      25\n",
            "       C             30      35\n",
            "Group2 A             40      45\n",
            "       B             50      55\n",
            "       C             60      65\n",
            "\n",
            "Data for Group1:\n",
            "          Value1  Value2\n",
            "Subgroup                \n",
            "A             10      15\n",
            "B             20      25\n",
            "C             30      35\n",
            "\n",
            "Sum of values at the 'Group' level:\n",
            "        Value1  Value2\n",
            "Group                 \n",
            "Group1      60      75\n",
            "Group2     150     165\n",
            "\n",
            "DataFrame with a new 'Difference' column:\n",
            "                 Value1  Value2  Difference\n",
            "Group  Subgroup                            \n",
            "Group1 A             10      15           5\n",
            "       B             20      25           5\n",
            "       C             30      35           5\n",
            "Group2 A             40      45           5\n",
            "       B             50      55           5\n",
            "       C             60      65           5\n",
            "\n",
            "DataFrame with swapped levels:\n",
            "                 Value1  Value2  Difference\n",
            "Subgroup Group                             \n",
            "A        Group1      10      15           5\n",
            "B        Group1      20      25           5\n",
            "C        Group1      30      35           5\n",
            "A        Group2      40      45           5\n",
            "B        Group2      50      55           5\n",
            "C        Group2      60      65           5\n",
            "\n",
            "DataFrame sorted by 'Subgroup':\n",
            "                 Value1  Value2  Difference\n",
            "Group  Subgroup                            \n",
            "Group1 A             10      15           5\n",
            "Group2 A             40      45           5\n",
            "Group1 B             20      25           5\n",
            "Group2 B             50      55           5\n",
            "Group1 C             30      35           5\n",
            "Group2 C             60      65           5\n",
            "\n",
            "DataFrame with reset index:\n",
            "    Group Subgroup  Value1  Value2  Difference\n",
            "0  Group1        A      10      15           5\n",
            "1  Group1        B      20      25           5\n",
            "2  Group1        C      30      35           5\n",
            "3  Group2        A      40      45           5\n",
            "4  Group2        B      50      55           5\n",
            "5  Group2        C      60      65           5\n"
          ]
        }
      ],
      "source": [
        "import pandas as pd\n",
        "import numpy as np\n",
        "\n",
        "# Create a Multi-Index DataFrame\n",
        "arrays = [\n",
        "    ['Group1', 'Group1', 'Group1', 'Group2', 'Group2', 'Group2'],\n",
        "    ['A', 'B', 'C', 'A', 'B', 'C']\n",
        "]\n",
        "index = pd.MultiIndex.from_arrays(arrays, names=('Group', 'Subgroup'))\n",
        "data = {\n",
        "    'Value1': [10, 20, 30, 40, 50, 60],\n",
        "    'Value2': [15, 25, 35, 45, 55, 65]\n",
        "}\n",
        "df = pd.DataFrame(data, index=index)\n",
        "\n",
        "print(\"Original Multi-Index DataFrame:\")\n",
        "print(df)\n",
        "\n",
        "# Access data at a specific level\n",
        "print(\"\\nData for Group1:\")\n",
        "print(df.loc['Group1'])\n",
        "\n",
        "# Perform operations on specific levels\n",
        "# Summing values at the 'Group' level\n",
        "group_sum = df.groupby(level='Group').sum()\n",
        "print(\"\\nSum of values at the 'Group' level:\")\n",
        "print(group_sum)\n",
        "\n",
        "# Adding a new column based on operations\n",
        "# Difference between Value2 and Value1\n",
        "df['Difference'] = df['Value2'] - df['Value1']\n",
        "print(\"\\nDataFrame with a new 'Difference' column:\")\n",
        "print(df)\n",
        "\n",
        "# Swapping levels in the Multi-Index\n",
        "df_swapped = df.swaplevel()\n",
        "print(\"\\nDataFrame with swapped levels:\")\n",
        "print(df_swapped)\n",
        "\n",
        "# Sorting by a specific level\n",
        "df_sorted = df.sort_index(level='Subgroup')\n",
        "print(\"\\nDataFrame sorted by 'Subgroup':\")\n",
        "print(df_sorted)\n",
        "\n",
        "# Resetting the index\n",
        "df_reset = df.reset_index()\n",
        "print(\"\\nDataFrame with reset index:\")\n",
        "print(df_reset)\n"
      ]
    },
    {
      "cell_type": "code",
      "source": [],
      "metadata": {
        "id": "r8NpxNWLUt3s"
      },
      "execution_count": null,
      "outputs": []
    }
  ]
}